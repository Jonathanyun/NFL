{
 "cells": [
  {
   "cell_type": "markdown",
   "id": "7d6ac59e",
   "metadata": {},
   "source": [
    "NFL QBR Logistic Regression Analysis and Predictive Model."
   ]
  },
  {
   "cell_type": "code",
   "execution_count": 2,
   "id": "31acafbf",
   "metadata": {},
   "outputs": [],
   "source": [
    "# Importing the necessary packages\n",
    "\n",
    "import pandas as pd\n",
    "import numpy as np \n",
    "import seaborn as sns\n",
    "import nfl_data_py as nfl \n",
    "from sklearn import model_selection\n",
    "from sklearn.linear_model import LogisticRegression \n",
    "from sklearn.model_selection import train_test_split"
   ]
  },
  {
   "cell_type": "code",
   "execution_count": 3,
   "id": "7adaf756",
   "metadata": {},
   "outputs": [
    {
     "name": "stdout",
     "output_type": "stream",
     "text": [
      "     season season_type     game_week team_abb  player_id   name_short  rank  \\\n",
      "802    2017     Regular  Season Total      PHI    2573079     C. Wentz   1.0   \n",
      "855    2017    Playoffs  Season Total       NO       2580     D. Brees   1.0   \n",
      "859    2017    Playoffs  Season Total       NO       2580     D. Brees   1.0   \n",
      "863    2018     Regular  Season Total       KC    3139477   P. Mahomes   1.0   \n",
      "922    2018    Playoffs  Season Total      DAL    2577417  D. Prescott   1.0   \n",
      "\n",
      "     qbr_total  pts_added  qb_plays  ...  exp_sack  penalty  qbr_raw  sack  \\\n",
      "802       78.5       48.9       567  ...         0      5.4     77.2 -11.4   \n",
      "855       81.3        6.6        78  ...         0      0.1     76.7  -1.2   \n",
      "859       81.3        6.6        78  ...         0      0.1     76.7  -1.2   \n",
      "863       80.3       72.2       722  ...         0      3.2     80.4 -10.2   \n",
      "922       76.5        6.7        80  ...         0      1.1     76.7  -1.0   \n",
      "\n",
      "     name_first  name_last     name_display  \\\n",
      "802      Carson      Wentz     Carson Wentz   \n",
      "855        Drew      Brees       Drew Brees   \n",
      "859        Drew      Brees       Drew Brees   \n",
      "863     Patrick    Mahomes  Patrick Mahomes   \n",
      "922         Dak   Prescott     Dak Prescott   \n",
      "\n",
      "                                         headshot_href     team qualified  \n",
      "802  https://a.espncdn.com/i/headshots/nfl/players/...   Eagles      True  \n",
      "855  https://a.espncdn.com/i/headshots/nfl/players/...   Saints      True  \n",
      "859  https://a.espncdn.com/i/headshots/nfl/players/...   Saints      True  \n",
      "863  https://a.espncdn.com/i/headshots/nfl/players/...   Chiefs      True  \n",
      "922  https://a.espncdn.com/i/headshots/nfl/players/...  Cowboys      True  \n",
      "\n",
      "[5 rows x 23 columns]\n"
     ]
    }
   ],
   "source": [
    "# Loading in data and EDA\n",
    "year = [2021, 2020, 2019, 2018, 2017]\n",
    "\n",
    "data = nfl.import_qbr(years = year)\n",
    "df = pd.DataFrame(data)\n",
    "\n",
    "# print(df.info())\n",
    "\n",
    "# print(df.head())\n",
    "top_ten_qbr = df.nsmallest(10, ['rank'])\n",
    "print(top_ten_qbr.head())\n",
    "\n",
    "\n"
   ]
  }
 ],
 "metadata": {
  "kernelspec": {
   "display_name": "Python 3 (ipykernel)",
   "language": "python",
   "name": "python3"
  },
  "language_info": {
   "codemirror_mode": {
    "name": "ipython",
    "version": 3
   },
   "file_extension": ".py",
   "mimetype": "text/x-python",
   "name": "python",
   "nbconvert_exporter": "python",
   "pygments_lexer": "ipython3",
   "version": "3.9.13"
  },
  "vscode": {
   "interpreter": {
    "hash": "2ccefe8a3412caedc9024f8e3af6c6bd4827bff3a6d764dc6c69b7165cb5a909"
   }
  }
 },
 "nbformat": 4,
 "nbformat_minor": 5
}
